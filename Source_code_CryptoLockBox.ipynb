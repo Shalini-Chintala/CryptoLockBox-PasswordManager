{
 "cells": [
  {
   "cell_type": "code",
   "execution_count": 1,
   "id": "f56dee41-034e-490f-9c52-1d89ce489687",
   "metadata": {},
   "outputs": [
    {
     "name": "stdout",
     "output_type": "stream",
     "text": [
      "Requirement already satisfied: cryptography==38.0.1 in /opt/anaconda3/lib/python3.11/site-packages (38.0.1)\r\n",
      "Requirement already satisfied: cffi>=1.12 in /opt/anaconda3/lib/python3.11/site-packages (from cryptography==38.0.1) (1.16.0)\r\n",
      "Requirement already satisfied: pycparser in /opt/anaconda3/lib/python3.11/site-packages (from cffi>=1.12->cryptography==38.0.1) (2.21)\r\n"
     ]
    }
   ],
   "source": [
    "!pip install cryptography==38.0.1"
   ]
  },
  {
   "cell_type": "code",
   "execution_count": 2,
   "id": "9f1128bf-c71e-4ece-b2cc-a3fe52bbd013",
   "metadata": {},
   "outputs": [
    {
     "name": "stdout",
     "output_type": "stream",
     "text": [
      "Requirement already satisfied: customtkinter in /opt/anaconda3/lib/python3.11/site-packages (5.2.2)\r\n",
      "Requirement already satisfied: darkdetect in /opt/anaconda3/lib/python3.11/site-packages (from customtkinter) (0.8.0)\r\n",
      "Requirement already satisfied: packaging in /opt/anaconda3/lib/python3.11/site-packages (from customtkinter) (23.2)\r\n"
     ]
    }
   ],
   "source": [
    "!pip install customtkinter\n"
   ]
  },
  {
   "cell_type": "code",
   "execution_count": 3,
   "id": "fa6079cf-d2ac-4c02-ac6c-0fcda037630a",
   "metadata": {},
   "outputs": [],
   "source": [
    "import customtkinter as ck\n"
   ]
  },
  {
   "cell_type": "code",
   "execution_count": 4,
   "id": "fdf27858-3a13-407a-9365-a8a87148f459",
   "metadata": {},
   "outputs": [
    {
     "name": "stdout",
     "output_type": "stream",
     "text": [
      "Requirement already satisfied: pyinstaller in /opt/anaconda3/lib/python3.11/site-packages (6.6.0)\n",
      "Requirement already satisfied: setuptools>=42.0.0 in /opt/anaconda3/lib/python3.11/site-packages (from pyinstaller) (68.2.2)\n",
      "Requirement already satisfied: altgraph in /opt/anaconda3/lib/python3.11/site-packages (from pyinstaller) (0.17.4)\n",
      "Requirement already satisfied: pyinstaller-hooks-contrib>=2024.3 in /opt/anaconda3/lib/python3.11/site-packages (from pyinstaller) (2024.4)\n",
      "Requirement already satisfied: packaging>=22.0 in /opt/anaconda3/lib/python3.11/site-packages (from pyinstaller) (23.2)\n",
      "Requirement already satisfied: macholib>=1.8 in /opt/anaconda3/lib/python3.11/site-packages (from pyinstaller) (1.16.3)\n",
      "Note: you may need to restart the kernel to use updated packages.\n"
     ]
    }
   ],
   "source": [
    "pip install pyinstaller"
   ]
  },
  {
   "cell_type": "code",
   "execution_count": 5,
   "id": "a64e6202-9668-4ce6-bc2c-f545b97ac347",
   "metadata": {},
   "outputs": [
    {
     "name": "stdout",
     "output_type": "stream",
     "text": [
      "Collecting package metadata (current_repodata.json): done\n",
      "Solving environment: done\n",
      "\n",
      "\n",
      "==> WARNING: A newer version of conda exists. <==\n",
      "  current version: 23.9.0\n",
      "  latest version: 24.3.0\n",
      "\n",
      "Please update conda by running\n",
      "\n",
      "    $ conda update -n base -c defaults conda\n",
      "\n",
      "Or to minimize the number of packages updated during conda update use\n",
      "\n",
      "     conda install conda=24.3.0\n",
      "\n",
      "\n",
      "\n",
      "## Package Plan ##\n",
      "\n",
      "  environment location: /opt/anaconda3\n",
      "\n",
      "  added / updated specs:\n",
      "    - tk\n",
      "\n",
      "\n",
      "The following packages will be downloaded:\n",
      "\n",
      "    package                    |            build\n",
      "    ---------------------------|-----------------\n",
      "    openssl-1.1.1w             |       h1a28f6b_0         3.3 MB  anaconda\n",
      "    ------------------------------------------------------------\n",
      "                                           Total:         3.3 MB\n",
      "\n",
      "The following packages will be SUPERSEDED by a higher-priority channel:\n",
      "\n",
      "  ca-certificates    pkgs/main::ca-certificates-2024.3.11-~ --> anaconda::ca-certificates-2023.08.22-hca03da5_0 \n",
      "  certifi            pkgs/main::certifi-2024.2.2-py311hca0~ --> anaconda::certifi-2023.11.17-py311hca03da5_0 \n",
      "  openssl                                         pkgs/main --> anaconda \n",
      "\n",
      "\n",
      "\n",
      "Downloading and Extracting Packages:\n",
      "                                                                                \n",
      "Preparing transaction: done\n",
      "Verifying transaction: done\n",
      "Executing transaction: done\n",
      "\n",
      "Note: you may need to restart the kernel to use updated packages.\n"
     ]
    }
   ],
   "source": [
    "conda install -c anaconda tk\n"
   ]
  },
  {
   "cell_type": "code",
   "execution_count": 6,
   "id": "99df43a6-4d43-4ecc-9283-17bd96e52525",
   "metadata": {},
   "outputs": [],
   "source": [
    "import tkinter as tk\n"
   ]
  },
  {
   "cell_type": "code",
   "execution_count": 7,
   "id": "2b25eb47-7c53-4183-a749-45a133de26f9",
   "metadata": {},
   "outputs": [],
   "source": [
    "import tkinter as tk, os, customtkinter as ck, string, random, zipfile, subprocess, webbrowser\n",
    "from cryptography.fernet import Fernet\n",
    "from tkinter import filedialog, messagebox\n",
    "from datetime import datetime\n",
    "from tkinter import ttk\n",
    "from PIL import ImageTk, Image\n",
    "\n"
   ]
  },
  {
   "cell_type": "markdown",
   "id": "9e393a96",
   "metadata": {},
   "source": [
    "Password Encryption"
   ]
  },
  {
   "cell_type": "code",
   "execution_count": 8,
   "id": "4389e1e3",
   "metadata": {},
   "outputs": [],
   "source": [
    "def encrypt_password():\n",
    "    timestamp = datetime.now().strftime(\"%Y-%m-%d-%H%M%S\")\n",
    "    key_file = os.getcwd() + \"/\" + timestamp + \".key\"\n",
    "    encrypt_file = os.getcwd() + \"/\" + timestamp + \".txt\"\n",
    "    zip_file_name = timestamp + \".zip\"\n",
    "    \n",
    "    \n",
    "    try:\n",
    "        with open(key_file, \"rb\") as f:\n",
    "            key = f.read()\n",
    "    except FileNotFoundError:\n",
    "        key = Fernet.generate_key()\n",
    "        with open(key_file, \"wb\") as f:\n",
    "            f.write(key)\n",
    "\n",
    "    f = Fernet(key)\n",
    "\n",
    "    password = entry.get().encode()\n",
    "    encrypted_password = f.encrypt(password)\n",
    "    with open(encrypt_file,'wb') as e:\n",
    "        e.write(encrypted_password)\n",
    "\n",
    "    files_to_zip = [key_file, encrypt_file]\n",
    "\n",
    "    with zipfile.ZipFile(zip_file_name, 'w') as zip_file:\n",
    "        for file in files_to_zip:\n",
    "            zip_file.write(file, os.path.basename(file))"
   ]
  },
  {
   "cell_type": "markdown",
   "id": "609ceb05",
   "metadata": {},
   "source": [
    "Password Decryption"
   ]
  },
  {
   "cell_type": "code",
   "execution_count": 9,
   "id": "875f7eb5",
   "metadata": {},
   "outputs": [],
   "source": [
    "def get_selected_path(combo):\n",
    "    index = combo.current()\n",
    "    paths = [os.path.join(os.getcwd(), item) for item in combo['values']]\n",
    "    return paths[index]\n",
    "\n",
    "def load_key_from_file(path):\n",
    "    with open(path, \"rb\") as key_file:\n",
    "        return key_file.read()\n",
    "\n",
    "def decrypt_password():\n",
    "    key_path = get_selected_path(combo)\n",
    "    encrypt_file_path = get_selected_path(combo2)\n",
    "\n",
    "    key = load_key_from_file(key_path)\n",
    "    f = Fernet(key)\n",
    "\n",
    "    try:\n",
    "        with open(encrypt_file_path, 'rb') as encrypt_file:\n",
    "            encrypted_password = encrypt_file.readline()\n",
    "\n",
    "        decrypted_password = f.decrypt(encrypted_password)\n",
    "        entry.delete(0, 'end')\n",
    "        entry.insert(0, decrypted_password.decode())\n",
    "    except Exception as e:\n",
    "        entry.delete(0, 'end')\n",
    "        entry.insert(0, 'Invalid Key Token')\n"
   ]
  },
  {
   "cell_type": "markdown",
   "id": "bb0e12bf",
   "metadata": {},
   "source": [
    "To get Key file "
   ]
  },
  {
   "cell_type": "code",
   "execution_count": 10,
   "id": "5a5a33b4",
   "metadata": {},
   "outputs": [],
   "source": [
    " def get_key_files(dir_path):\n",
    "    file_list = os.listdir(dir_path)\n",
    "    key_files = [file_name for file_name in file_list if file_name.endswith('.key')]\n",
    "    return key_files\n",
    "\n",
    "def update_combo_values(combo, values):\n",
    "    combo['values'] = values\n",
    "\n",
    "def main_file_list(event):\n",
    "    dir_path = os.getcwd()\n",
    "    key_files = get_key_files(dir_path)\n",
    "    update_combo_values(combo, key_files)\n",
    "\n"
   ]
  },
  {
   "cell_type": "markdown",
   "id": "0dc4ce90",
   "metadata": {},
   "source": [
    "To get text file       "
   ]
  },
  {
   "cell_type": "code",
   "execution_count": 11,
   "id": "e2510f97",
   "metadata": {},
   "outputs": [],
   "source": [
    "def get_text_files(dir_path):\n",
    "    file_list = os.listdir(dir_path)\n",
    "    text_files = [file_name for file_name in file_list if file_name.endswith('.txt')]\n",
    "    return text_files\n",
    "\n",
    "def update_combo2_values(combo2, values):\n",
    "    combo2['values'] = values\n",
    "\n",
    "def main_file_list2(event):\n",
    "    dir_path = os.getcwd()\n",
    "    text_files = get_text_files(dir_path)\n",
    "    update_combo2_values(combo2, text_files)\n",
    "\n"
   ]
  },
  {
   "cell_type": "markdown",
   "id": "a2ab460e",
   "metadata": {},
   "source": [
    "To Generate random Password"
   ]
  },
  {
   "cell_type": "code",
   "execution_count": 12,
   "id": "5c22f667",
   "metadata": {},
   "outputs": [],
   "source": [
    "def generate_random_password(length):\n",
    "    chars = string.ascii_letters + string.digits + string.punctuation\n",
    "    password = ''.join(random.choice(chars) for _ in range(length))\n",
    "    return password\n",
    "\n",
    "def update_entry_widget(entry, text):\n",
    "    entry.delete(0, 'end')\n",
    "    entry.insert(0, text)\n",
    "\n",
    "def generate_password():\n",
    "    length = int(combo3.get())\n",
    "    password = generate_random_password(length)\n",
    "    update_entry_widget(entry, password)\n"
   ]
  },
  {
   "cell_type": "markdown",
   "id": "c3ab03b5",
   "metadata": {},
   "source": [
    "To send files via mail"
   ]
  },
  {
   "cell_type": "code",
   "execution_count": 13,
   "id": "869cfa18",
   "metadata": {},
   "outputs": [],
   "source": [
    "def select_file_dialog():\n",
    "    file_path = filedialog.askopenfilename(filetypes=[(\"Zip Files\", \"*.zip\"),('All', '*.*')])\n",
    "    return file_path\n",
    "\n",
    "def open_file_in_mail(file_path):\n",
    "    if file_path:\n",
    "        subprocess.Popen(['open', '-a', 'Mail', file_path])\n",
    "    else:\n",
    "        messagebox.showerror(\"Error\", \"Please select a file first.\")\n",
    "\n",
    "def send_file():\n",
    "    selected_file_path = select_file_dialog()\n",
    "    open_file_in_mail(selected_file_path)\n"
   ]
  },
  {
   "cell_type": "code",
   "execution_count": 14,
   "id": "4e905d5d-6e2a-40cd-b129-6e40f3dabb1a",
   "metadata": {},
   "outputs": [],
   "source": [
    "import os\n",
    "import signal\n",
    "\n",
    "def close_window():\n",
    "    pid = os.getpid()\n",
    "    #os.kill(pid, signal.SIGKILL)\n",
    "    os.kill(pid, signal.SIGTERM)\n",
    "\n",
    "   "
   ]
  },
  {
   "cell_type": "code",
   "execution_count": 15,
   "id": "59f02372-4d59-493a-a917-f7198fc4dbaf",
   "metadata": {},
   "outputs": [],
   "source": [
    "def copy_to_clipboard(event):\n",
    "    window.clipboard_clear()\n",
    "    widget = event.widget\n",
    "    if widget.get():\n",
    "        widget.selection_range(0, tk.END)\n",
    "        widget.clipboard_append(widget.selection_get())\n",
    "        "
   ]
  },
  {
   "cell_type": "code",
   "execution_count": 16,
   "id": "bf25a75f",
   "metadata": {},
   "outputs": [],
   "source": [
    "def clear_clipboard(window):\n",
    "    window.clipboard_clear()\n",
    "\n",
    "def copy_selected_text_to_clipboard(event):\n",
    "    widget = event.widget\n",
    "    if widget.get():\n",
    "        widget.selection_range(0, tk.END)\n",
    "        widget.clipboard_append(widget.selection_get())\n",
    "\n",
    "def copy_to_clipboard(event):\n",
    "    clear_clipboard(window)\n",
    "    copy_selected_text_to_clipboard(event)\n"
   ]
  },
  {
   "cell_type": "code",
   "execution_count": 17,
   "id": "1d72b2ca-6d7d-4830-b6bc-84df481506b3",
   "metadata": {},
   "outputs": [],
   "source": [
    "def clear_entry(event):\n",
    "    entry.delete(0,'end')\n",
    "\n",
    "def clear_combo(event):\n",
    "    combo3.delete(0,'end')"
   ]
  },
  {
   "cell_type": "markdown",
   "id": "c4a51222",
   "metadata": {},
   "source": [
    "GUI"
   ]
  },
  {
   "cell_type": "code",
   "execution_count": 18,
   "id": "86d0ba18",
   "metadata": {},
   "outputs": [],
   "source": [
    "window = tk.Tk()\n",
    "window.title('Password Management Vault')\n",
    "\n",
    "# Set window dimensions and position\n",
    "width = 1000\n",
    "height = 600\n",
    "screen_width = window.winfo_screenwidth()\n",
    "screen_height = window.winfo_screenheight()\n",
    "x = (screen_width / 2) - (width / 2)\n",
    "y = (screen_height / 4) - (height / 4)\n",
    "window.geometry(\"%dx%d+%d+%d\" % (width, height, x, y))\n",
    "\n",
    "# Prevent resizing of the window\n",
    "window.resizable(0, 0)\n",
    "\n",
    "# Set background color\n",
    "window.configure(background='#408dac')\n"
   ]
  },
  {
   "cell_type": "code",
   "execution_count": 19,
   "id": "3d6fad1b",
   "metadata": {},
   "outputs": [],
   "source": [
    "my_font1 = (\"Times\", 20, \"bold\")\n",
    "my_font2 = (\"Times\", 35, \"bold\")\n"
   ]
  },
  {
   "cell_type": "code",
   "execution_count": 20,
   "id": "6b01b394-13d7-423d-b556-41acbf61fff5",
   "metadata": {},
   "outputs": [],
   "source": [
    "canvas = tk.Canvas(window, width=1000, height=600, highlightthickness=0)\n",
    "canvas.pack()"
   ]
  },
  {
   "cell_type": "code",
   "execution_count": 21,
   "id": "9aad45ff-adde-4e81-aa03-bd5c5c8202ca",
   "metadata": {},
   "outputs": [],
   "source": [
    "image = Image.open(\"resources/bg.png\")\n",
    "photo = ImageTk.PhotoImage(image)"
   ]
  },
  {
   "cell_type": "code",
   "execution_count": 22,
   "id": "7c2cfcbc-fdf4-483a-b839-149314dfdc95",
   "metadata": {},
   "outputs": [
    {
     "data": {
      "text/plain": [
       "1"
      ]
     },
     "execution_count": 22,
     "metadata": {},
     "output_type": "execute_result"
    }
   ],
   "source": [
    "canvas.create_image(0, 0, anchor=tk.NW, image=photo)"
   ]
  },
  {
   "cell_type": "code",
   "execution_count": 23,
   "id": "ad9f6246-c598-46ed-91f9-4ff2d4d0affc",
   "metadata": {},
   "outputs": [],
   "source": [
    "frame = ck.CTkFrame(window, width=400, height=300, fg_color='#1b3d87', corner_radius=0, bg_color='white', border_width=1)\n",
    "frame.place(relx=0.50, rely=0.5, anchor='w')\n",
    "frame2 = ck.CTkFrame(window, width=400, height=300, fg_color='#1b3d87', corner_radius=0, bg_color='white', border_width=1)\n",
    "frame2.place(relx=0.10, rely=0.5, anchor='w')\n",
    "frame3 = ck.CTkFrame(window, width=500, height=80, fg_color='#1b3d87', corner_radius=0, border_width=1)\n",
    "frame3.place(relx=0.5, rely=0.15, anchor=tk.CENTER)\n",
    "label = ck.CTkLabel(frame3, text=\"CryptoLockBox\", text_color=('White'), font=my_font2)\n",
    "label.place(relx=0.5, y=35, anchor=tk.CENTER)\n"
   ]
  },
  {
   "cell_type": "code",
   "execution_count": 24,
   "id": "978d20b8-c2c7-49fc-be58-2168d324f0c6",
   "metadata": {},
   "outputs": [],
   "source": [
    "label = ck.CTkLabel(frame, text=\"Enter a password\", text_color=('white'), font=my_font1)\n",
    "label.place(relx=0.5, y=30, anchor=tk.CENTER)"
   ]
  },
  {
   "cell_type": "code",
   "execution_count": 25,
   "id": "bcba35fe-d551-487e-97ff-4cb155fef171",
   "metadata": {},
   "outputs": [],
   "source": [
    "entry = ttk.Entry(frame, width=20)\n",
    "entry.place(relx=0.5, y=60, anchor=tk.CENTER)"
   ]
  },
  {
   "cell_type": "code",
   "execution_count": 26,
   "id": "9928e12d-fe1c-40b1-92ef-d2d8d4b5a86b",
   "metadata": {},
   "outputs": [],
   "source": [
    "encrypt_img = ck.CTkImage(light_image=Image.open(\"resources/encrypt.png\"),size=(38,38))\n",
    "decrypt_img = ck.CTkImage(light_image=Image.open(\"resources/decrypt.png\"),size=(38,38))\n",
    "generate_img = ck.CTkImage(light_image=Image.open(\"resources/generate.png\"),size=(30,30))\n",
    "send_img = ck.CTkImage(light_image=Image.open(\"resources/send.png\"),size=(30,30))\n",
    "exit_img = ck.CTkImage(light_image=Image.open(\"resources/exit.png\"),size=(35,35))"
   ]
  },
  {
   "cell_type": "code",
   "execution_count": 27,
   "id": "9e802e14-fc32-4e3a-8f10-d4c28cd0b7ec",
   "metadata": {},
   "outputs": [],
   "source": [
    "encrypt_button = ck.CTkButton(frame, text=\"Encrypt\",  text_color=('Black'),height=60, fg_color='white', border_width=2, border_color='#313246', hover_color='#95c73c', image=encrypt_img, command=encrypt_password)\n",
    "encrypt_button.place(relx=0.5, y=110, anchor=tk.CENTER)\n",
    "decrypt_button = ck.CTkButton(frame, text=\"Decrypt\",text_color=('Black'),height=60, fg_color='white', border_width=2, border_color='#313246', hover_color='#f03e34', image=decrypt_img, command=decrypt_password)\n",
    "decrypt_button.place(relx=0.5, y=245, anchor=tk.CENTER)\n",
    "generate_button = ck.CTkButton(frame2, text=\"Generate\",text_color=('Black'),width=150,height=60, fg_color='white', border_width=2, border_color='#313246', hover_color='#FFA500', image=generate_img,compound=tk.RIGHT, command=generate_password)\n",
    "generate_button.place(relx=0.35, y=60, anchor=tk.CENTER)\n",
    "send_button = ck.CTkButton(frame2, text=\"Send By\\n Email\",text_color=('Black'),width=180,height=65, fg_color='white', border_width=2, border_color='#313246', hover_color='#CBC3E3', image=send_img,compound=tk.RIGHT, command=send_file)\n",
    "send_button.place(relx=0.5, y=150, anchor=tk.CENTER)\n",
    "exit_button = ck.CTkButton(frame2, text=\"Exit\",text_color=('Black'),width=150,height=60, fg_color='white', border_width=2, border_color='#313246', hover_color='#FFD700', image=exit_img,compound=tk.RIGHT, command=close_window)\n",
    "exit_button.place(relx=0.30, y=245, anchor=tk.CENTER)"
   ]
  },
  {
   "cell_type": "code",
   "execution_count": 28,
   "id": "f1d5b368-cdb9-484e-beea-12253063dd82",
   "metadata": {},
   "outputs": [],
   "source": [
    "style = ttk.Style()\n",
    "style.theme_use('classic')\n",
    "style.configure('TCombobox', bordercolor='white', lightcolor='white')\n"
   ]
  },
  {
   "cell_type": "code",
   "execution_count": 29,
   "id": "83cef05c-57c3-43bf-bf52-3aec967a7879",
   "metadata": {},
   "outputs": [],
   "source": [
    "combo = ttk.Combobox(frame, style='TCombobox', width=20)\n",
    "combo.place(relx=0.5, y=165, anchor=tk.CENTER)\n",
    "combo2 = ttk.Combobox(frame, style='TCombobox', width=20)\n",
    "combo2.place(relx=0.5, y=195, anchor=tk.CENTER)\n",
    "options = ['10']\n",
    "combo3 = ttk.Combobox(frame2, style='TCombobox', width=3, values=options)\n",
    "combo3.current(0)\n",
    "combo3.place(relx=0.80, y=65, anchor=tk.CENTER)"
   ]
  },
  {
   "cell_type": "code",
   "execution_count": 30,
   "id": "6f5bebaf-46ca-4207-a1eb-5c9bc36d85ee",
   "metadata": {},
   "outputs": [
    {
     "data": {
      "text/plain": [
       "'4555201280clear_entry'"
      ]
     },
     "execution_count": 30,
     "metadata": {},
     "output_type": "execute_result"
    }
   ],
   "source": [
    "combo.bind(\"<Button-1>\", main_file_list)\n",
    "combo2.bind(\"<Button-1>\", main_file_list2)\n",
    "combo3.bind(\"<Button-1>\", clear_combo)\n",
    "entry.bind('<Button-1>', copy_to_clipboard)\n",
    "window.bind('<Control-x>',clear_entry)"
   ]
  },
  {
   "cell_type": "code",
   "execution_count": null,
   "id": "09ca708f-2152-4658-af1c-c47121a82089",
   "metadata": {},
   "outputs": [],
   "source": [
    "window.mainloop()"
   ]
  }
 ],
 "metadata": {
  "kernelspec": {
   "display_name": "Python 3 (ipykernel)",
   "language": "python",
   "name": "python3"
  },
  "language_info": {
   "codemirror_mode": {
    "name": "ipython",
    "version": 3
   },
   "file_extension": ".py",
   "mimetype": "text/x-python",
   "name": "python",
   "nbconvert_exporter": "python",
   "pygments_lexer": "ipython3",
   "version": "3.11.5"
  }
 },
 "nbformat": 4,
 "nbformat_minor": 5
}
