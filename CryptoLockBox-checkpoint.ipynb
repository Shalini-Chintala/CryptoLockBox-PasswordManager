{
 "cells": [
  {
   "cell_type": "code",
   "execution_count": 1,
   "id": "f56dee41-034e-490f-9c52-1d89ce489687",
   "metadata": {},
   "outputs": [
    {
     "name": "stdout",
     "output_type": "stream",
     "text": [
      "Requirement already satisfied: cryptography==38.0.1 in /opt/anaconda3/lib/python3.11/site-packages (38.0.1)\n",
      "Requirement already satisfied: cffi>=1.12 in /opt/anaconda3/lib/python3.11/site-packages (from cryptography==38.0.1) (1.16.0)\n",
      "Requirement already satisfied: pycparser in /opt/anaconda3/lib/python3.11/site-packages (from cffi>=1.12->cryptography==38.0.1) (2.21)\n"
     ]
    }
   ],
   "source": [
    "!pip install cryptography==38.0.1"
   ]
  },
  {
   "cell_type": "code",
   "execution_count": 2,
   "id": "9f1128bf-c71e-4ece-b2cc-a3fe52bbd013",
   "metadata": {},
   "outputs": [
    {
     "name": "stdout",
     "output_type": "stream",
     "text": [
      "Requirement already satisfied: customtkinter in /opt/anaconda3/lib/python3.11/site-packages (5.2.2)\n",
      "Requirement already satisfied: darkdetect in /opt/anaconda3/lib/python3.11/site-packages (from customtkinter) (0.8.0)\n",
      "Requirement already satisfied: packaging in /opt/anaconda3/lib/python3.11/site-packages (from customtkinter) (23.1)\n"
     ]
    }
   ],
   "source": [
    "!pip install customtkinter\n"
   ]
  },
  {
   "cell_type": "code",
   "execution_count": 3,
   "id": "fa6079cf-d2ac-4c02-ac6c-0fcda037630a",
   "metadata": {},
   "outputs": [],
   "source": [
    "import customtkinter as ck\n"
   ]
  },
  {
   "cell_type": "code",
   "execution_count": 4,
   "id": "fdf27858-3a13-407a-9365-a8a87148f459",
   "metadata": {},
   "outputs": [
    {
     "name": "stdout",
     "output_type": "stream",
     "text": [
      "Requirement already satisfied: pyinstaller in /opt/anaconda3/lib/python3.11/site-packages (6.6.0)\n",
      "Requirement already satisfied: setuptools>=42.0.0 in /opt/anaconda3/lib/python3.11/site-packages (from pyinstaller) (68.2.2)\n",
      "Requirement already satisfied: altgraph in /opt/anaconda3/lib/python3.11/site-packages (from pyinstaller) (0.17.4)\n",
      "Requirement already satisfied: pyinstaller-hooks-contrib>=2024.3 in /opt/anaconda3/lib/python3.11/site-packages (from pyinstaller) (2024.4)\n",
      "Requirement already satisfied: packaging>=22.0 in /opt/anaconda3/lib/python3.11/site-packages (from pyinstaller) (23.1)\n",
      "Requirement already satisfied: macholib>=1.8 in /opt/anaconda3/lib/python3.11/site-packages (from pyinstaller) (1.16.3)\n",
      "Note: you may need to restart the kernel to use updated packages.\n"
     ]
    }
   ],
   "source": [
    "pip install pyinstaller"
   ]
  },
  {
   "cell_type": "code",
   "execution_count": 5,
   "id": "a64e6202-9668-4ce6-bc2c-f545b97ac347",
   "metadata": {},
   "outputs": [
    {
     "name": "stdout",
     "output_type": "stream",
     "text": [
      "Channels:\n",
      " - anaconda\n",
      " - defaults\n",
      "Platform: osx-arm64\n",
      "Collecting package metadata (repodata.json): done\n",
      "Solving environment: done\n",
      "\n",
      "# All requested packages already installed.\n",
      "\n",
      "\n",
      "Note: you may need to restart the kernel to use updated packages.\n"
     ]
    }
   ],
   "source": [
    "conda install -c anaconda tk\n"
   ]
  },
  {
   "cell_type": "code",
   "execution_count": 6,
   "id": "99df43a6-4d43-4ecc-9283-17bd96e52525",
   "metadata": {},
   "outputs": [],
   "source": [
    "import tkinter as tk\n"
   ]
  },
  {
   "cell_type": "code",
   "execution_count": 7,
   "id": "2b25eb47-7c53-4183-a749-45a133de26f9",
   "metadata": {},
   "outputs": [],
   "source": [
    "import tkinter as tk, os, customtkinter as ck, string, random, zipfile, subprocess,webbrowser\n",
    "from cryptography.fernet import Fernet\n",
    "from tkinter import filedialog, messagebox\n",
    "from datetime import datetime\n",
    "from tkinter import ttk\n",
    "from PIL import ImageTk, Image\n",
    "\n"
   ]
  },
  {
   "cell_type": "code",
   "execution_count": 8,
   "id": "ab8380e6-f3f2-4f37-a4d6-89a5d7843759",
   "metadata": {},
   "outputs": [],
   "source": [
    "def encrypt_password():\n",
    "    timestamp = datetime.now().strftime(\"%Y-%m-%d-%H%M%S\")\n",
    "    key_file = os.getcwd() + \"/\" + timestamp + \".key\"\n",
    "    encrypt_file = os.getcwd() + \"/\" + timestamp + \".txt\"\n",
    "    zip_file_name = timestamp + \".zip\"\n",
    "    \n",
    "    \n",
    "    try:\n",
    "        with open(key_file, \"rb\") as f:\n",
    "            key = f.read()\n",
    "    except FileNotFoundError:\n",
    "        key = Fernet.generate_key()\n",
    "        with open(key_file, \"wb\") as f:\n",
    "            f.write(key)\n",
    "\n",
    "    f = Fernet(key)\n",
    "\n",
    "    password = entry.get().encode()\n",
    "    encrypted_password = f.encrypt(password)\n",
    "    with open(encrypt_file,'wb') as e:\n",
    "        e.write(encrypted_password)\n",
    "\n",
    "    files_to_zip = [key_file, encrypt_file]\n",
    "\n",
    "    with zipfile.ZipFile(zip_file_name, 'w') as zip_file:\n",
    "        for file in files_to_zip:\n",
    "            zip_file.write(file, os.path.basename(file))"
   ]
  },
  {
   "cell_type": "code",
   "execution_count": 9,
   "id": "eb2836e9-a889-4eec-8209-60a0139e4516",
   "metadata": {},
   "outputs": [],
   "source": [
    "def decrypt_password():\n",
    "    index = combo.current()\n",
    "    paths = [os.path.join(os.getcwd() + '/', item) for item in combo['values']]\n",
    "    path = paths[index]\n",
    "    index2 = combo2.current()\n",
    "    paths2 = [os.path.join(os.getcwd() + '/', item) for item in combo2['values']]\n",
    "    path2 = paths2[index2]\n",
    "\n",
    "    with open(path, \"rb\") as f:\n",
    "        key = f.read()\n",
    "    f = Fernet(key)\n",
    "\n",
    "    try:\n",
    "        with open(path2,'r') as file:\n",
    "            first_line = file.readline()\n",
    "        encrypted_password = first_line\n",
    "        decrypted_password = f.decrypt(encrypted_password)\n",
    "        entry.delete(0,'end')\n",
    "        entry.insert(0,f'{decrypted_password.decode()}')\n",
    "    except:\n",
    "        entry.delete(0,'end')\n",
    "        entry.insert(0,'Invalid Token')"
   ]
  },
  {
   "cell_type": "code",
   "execution_count": 10,
   "id": "e49c7aea-9fb7-418d-ae1b-cfccd96f9b47",
   "metadata": {},
   "outputs": [],
   "source": [
    "def main_file_list(event):\n",
    "    dir_path = os.getcwd()\n",
    "    file_list = os.listdir(dir_path)\n",
    "    combo['values'] = []\n",
    "    for file_name in file_list:\n",
    "        if file_name.endswith('.key'):\n",
    "            combo['values'] = (*combo['values'], file_name)"
   ]
  },
  {
   "cell_type": "code",
   "execution_count": 11,
   "id": "74883a8a-d845-4ffc-9010-25c49023aa4f",
   "metadata": {},
   "outputs": [],
   "source": [
    "def main_file_list2(event):\n",
    "    dir_path = os.getcwd()\n",
    "    file_list = os.listdir(dir_path)\n",
    "    combo2['values'] = []\n",
    "    for file_name in file_list:\n",
    "        if file_name.endswith('.txt'):\n",
    "            combo2['values'] = (*combo2['values'], file_name)\n",
    "            "
   ]
  },
  {
   "cell_type": "code",
   "execution_count": 12,
   "id": "b85d822f-89b4-4964-adc4-7c2df057358d",
   "metadata": {},
   "outputs": [],
   "source": [
    "def generate_password():\n",
    "    chars = string.ascii_letters + string.digits + string.punctuation\n",
    "\n",
    "    password = ''.join(random.choice(chars) for _ in range(int(combo3.get())))\n",
    "\n",
    "    entry.delete(0,'end')\n",
    "    entry.insert(0,password)"
   ]
  },
  {
   "cell_type": "code",
   "execution_count": 13,
   "id": "ddb004f5-2733-48ff-9d3d-fa09ac954d89",
   "metadata": {},
   "outputs": [],
   "source": [
    "def send_file():\n",
    "    file_path = filedialog.askopenfilename(filetypes=[(\"Zip Files\", \"*.zip\"),('All', '*.*')])\n",
    "    if file_path:\n",
    "        subprocess.Popen(['open', '-a', 'Mail', file_path])\n",
    "    else:\n",
    "        messagebox.showerror(\"Error\", \"Please select a file first.\")"
   ]
  },
  {
   "cell_type": "code",
   "execution_count": 14,
   "id": "4e905d5d-6e2a-40cd-b129-6e40f3dabb1a",
   "metadata": {},
   "outputs": [],
   "source": [
    "import os\n",
    "import signal\n",
    "\n",
    "def close_window():\n",
    "    pid = os.getpid()\n",
    "    os.kill(pid, signal.SIGKILL)\n",
    "   "
   ]
  },
  {
   "cell_type": "code",
   "execution_count": 15,
   "id": "59f02372-4d59-493a-a917-f7198fc4dbaf",
   "metadata": {},
   "outputs": [],
   "source": [
    "def copy_to_clipboard(event):\n",
    "    window.clipboard_clear()\n",
    "    widget = event.widget\n",
    "    if widget.get():\n",
    "        widget.selection_range(0, tk.END)\n",
    "        widget.clipboard_append(widget.selection_get())\n",
    "        "
   ]
  },
  {
   "cell_type": "code",
   "execution_count": 16,
   "id": "1d72b2ca-6d7d-4830-b6bc-84df481506b3",
   "metadata": {},
   "outputs": [],
   "source": [
    "def clear_entry(event):\n",
    "    entry.delete(0,'end')\n",
    "\n",
    "def clear_combo(event):\n",
    "    combo3.delete(0,'end')"
   ]
  },
  {
   "cell_type": "code",
   "execution_count": 31,
   "id": "65811bd3-add3-424b-8e02-81191df10d2f",
   "metadata": {},
   "outputs": [],
   "source": [
    "window = tk.Tk()\n",
    "window.title('Password Management Vault')\n",
    "width = 1000\n",
    "height = 600\n",
    "screen_width = window.winfo_screenwidth()\n",
    "screen_height = window.winfo_screenheight()\n",
    "x = (screen_width/2) - (width/2)\n",
    "y = (screen_height/4) - (height/4)\n",
    "window.geometry(\"%dx%d+%d+%d\" % (width, height, x, y))\n",
    "window.resizable(0, 0)\n",
    "window.configure(background='#408dac')"
   ]
  },
  {
   "cell_type": "code",
   "execution_count": 32,
   "id": "60c44356-d395-4fad-8668-c916f732509b",
   "metadata": {},
   "outputs": [],
   "source": [
    "my_font1 = (\"Times\", 20, \"bold\")\n",
    "my_font2 = (\"Times\", 35, \"bold\")"
   ]
  },
  {
   "cell_type": "code",
   "execution_count": 33,
   "id": "6b01b394-13d7-423d-b556-41acbf61fff5",
   "metadata": {},
   "outputs": [],
   "source": [
    "canvas = tk.Canvas(window, width=1000, height=600, highlightthickness=0)\n",
    "canvas.pack()"
   ]
  },
  {
   "cell_type": "code",
   "execution_count": 34,
   "id": "9aad45ff-adde-4e81-aa03-bd5c5c8202ca",
   "metadata": {},
   "outputs": [],
   "source": [
    "image = Image.open(\"resources/bg.png\")\n",
    "photo = ImageTk.PhotoImage(image)"
   ]
  },
  {
   "cell_type": "code",
   "execution_count": 35,
   "id": "7c2cfcbc-fdf4-483a-b839-149314dfdc95",
   "metadata": {},
   "outputs": [
    {
     "data": {
      "text/plain": [
       "1"
      ]
     },
     "execution_count": 35,
     "metadata": {},
     "output_type": "execute_result"
    }
   ],
   "source": [
    "canvas.create_image(0, 0, anchor=tk.NW, image=photo)"
   ]
  },
  {
   "cell_type": "code",
   "execution_count": 36,
   "id": "ad9f6246-c598-46ed-91f9-4ff2d4d0affc",
   "metadata": {},
   "outputs": [],
   "source": [
    "frame = ck.CTkFrame(window, width=400, height=300, fg_color='#1b3d87', corner_radius=0, bg_color='white', border_width=1)\n",
    "frame.place(relx=0.50, rely=0.5, anchor='w')\n",
    "frame2 = ck.CTkFrame(window, width=400, height=300, fg_color='#1b3d87', corner_radius=0, bg_color='white', border_width=1)\n",
    "frame2.place(relx=0.10, rely=0.5, anchor='w')\n",
    "frame3 = ck.CTkFrame(window, width=500, height=80, fg_color='#1b3d87', corner_radius=0, border_width=1)\n",
    "frame3.place(relx=0.5, rely=0.15, anchor=tk.CENTER)\n",
    "label = ck.CTkLabel(frame3, text=\"CryptoLockBox\", text_color=('White'), font=my_font2)\n",
    "label.place(relx=0.5, y=35, anchor=tk.CENTER)\n"
   ]
  },
  {
   "cell_type": "code",
   "execution_count": 37,
   "id": "978d20b8-c2c7-49fc-be58-2168d324f0c6",
   "metadata": {},
   "outputs": [],
   "source": [
    "label = ck.CTkLabel(frame, text=\"Enter a password\", text_color=('white'), font=my_font1)\n",
    "label.place(relx=0.5, y=30, anchor=tk.CENTER)"
   ]
  },
  {
   "cell_type": "code",
   "execution_count": 38,
   "id": "bcba35fe-d551-487e-97ff-4cb155fef171",
   "metadata": {},
   "outputs": [],
   "source": [
    "entry = ttk.Entry(frame, width=20)\n",
    "entry.place(relx=0.5, y=60, anchor=tk.CENTER)"
   ]
  },
  {
   "cell_type": "code",
   "execution_count": 39,
   "id": "9928e12d-fe1c-40b1-92ef-d2d8d4b5a86b",
   "metadata": {},
   "outputs": [],
   "source": [
    "encrypt_img = ck.CTkImage(light_image=Image.open(\"resources/encrypt.png\"),size=(38,38))\n",
    "decrypt_img = ck.CTkImage(light_image=Image.open(\"resources/decrypt.png\"),size=(38,38))\n",
    "generate_img = ck.CTkImage(light_image=Image.open(\"resources/generate.png\"),size=(30,30))\n",
    "send_img = ck.CTkImage(light_image=Image.open(\"resources/send.png\"),size=(30,30))\n",
    "exit_img = ck.CTkImage(light_image=Image.open(\"resources/exit.png\"),size=(35,35))"
   ]
  },
  {
   "cell_type": "code",
   "execution_count": 40,
   "id": "9e802e14-fc32-4e3a-8f10-d4c28cd0b7ec",
   "metadata": {},
   "outputs": [],
   "source": [
    "encrypt_button = ck.CTkButton(frame, text=\"Encrypt\",  text_color=('Black'),height=60, fg_color='white', border_width=2, border_color='#313246', hover_color='#95c73c', image=encrypt_img, command=encrypt_password)\n",
    "encrypt_button.place(relx=0.5, y=110, anchor=tk.CENTER)\n",
    "decrypt_button = ck.CTkButton(frame, text=\"Decrypt\",text_color=('Black'),height=60, fg_color='white', border_width=2, border_color='#313246', hover_color='#f03e34', image=decrypt_img, command=decrypt_password)\n",
    "decrypt_button.place(relx=0.5, y=245, anchor=tk.CENTER)\n",
    "generate_button = ck.CTkButton(frame2, text=\"Generate\",text_color=('Black'),width=150,height=60, fg_color='white', border_width=2, border_color='#313246', hover_color='#FFA500', image=generate_img,compound=tk.RIGHT, command=generate_password)\n",
    "generate_button.place(relx=0.35, y=60, anchor=tk.CENTER)\n",
    "send_button = ck.CTkButton(frame2, text=\"Send By\\n Email\",text_color=('Black'),width=180,height=65, fg_color='white', border_width=2, border_color='#313246', hover_color='#CBC3E3', image=send_img,compound=tk.RIGHT, command=send_file)\n",
    "send_button.place(relx=0.5, y=150, anchor=tk.CENTER)\n",
    "exit_button = ck.CTkButton(frame2, text=\"Exit\",text_color=('Black'),width=150,height=60, fg_color='white', border_width=2, border_color='#313246', hover_color='#FFD700', image=exit_img,compound=tk.RIGHT, command=close_window)\n",
    "exit_button.place(relx=0.30, y=245, anchor=tk.CENTER)"
   ]
  },
  {
   "cell_type": "code",
   "execution_count": 41,
   "id": "f1d5b368-cdb9-484e-beea-12253063dd82",
   "metadata": {},
   "outputs": [],
   "source": [
    "style = ttk.Style()\n",
    "style.theme_use('classic')\n",
    "style.configure('TCombobox', bordercolor='white', lightcolor='white')\n"
   ]
  },
  {
   "cell_type": "code",
   "execution_count": 42,
   "id": "83cef05c-57c3-43bf-bf52-3aec967a7879",
   "metadata": {},
   "outputs": [],
   "source": [
    "combo = ttk.Combobox(frame, style='TCombobox', width=20)\n",
    "combo.place(relx=0.5, y=165, anchor=tk.CENTER)\n",
    "combo2 = ttk.Combobox(frame, style='TCombobox', width=20)\n",
    "combo2.place(relx=0.5, y=195, anchor=tk.CENTER)\n",
    "options = ['10']\n",
    "combo3 = ttk.Combobox(frame2, style='TCombobox', width=3, values=options)\n",
    "combo3.current(0)\n",
    "combo3.place(relx=0.80, y=65, anchor=tk.CENTER)"
   ]
  },
  {
   "cell_type": "code",
   "execution_count": 43,
   "id": "6f5bebaf-46ca-4207-a1eb-5c9bc36d85ee",
   "metadata": {},
   "outputs": [
    {
     "data": {
      "text/plain": [
       "'4522181248close_window'"
      ]
     },
     "execution_count": 43,
     "metadata": {},
     "output_type": "execute_result"
    }
   ],
   "source": [
    "combo.bind(\"<Button-1>\", main_file_list)\n",
    "combo2.bind(\"<Button-1>\", main_file_list2)\n",
    "combo3.bind(\"<Button-1>\", clear_combo)\n",
    "entry.bind('<Button-1>', copy_to_clipboard)\n",
    "window.bind('<Control-x>',clear_entry)\n",
    "window.bind('<Control-q>', close_window)"
   ]
  },
  {
   "cell_type": "code",
   "execution_count": 44,
   "id": "09ca708f-2152-4658-af1c-c47121a82089",
   "metadata": {},
   "outputs": [
    {
     "name": "stderr",
     "output_type": "stream",
     "text": [
      "invalid command name \"4519772352update\"\n",
      "    while executing\n",
      "\"4519772352update\"\n",
      "    (\"after\" script)\n",
      "invalid command name \"4519779328check_dpi_scaling\"\n",
      "    while executing\n",
      "\"4519779328check_dpi_scaling\"\n",
      "    (\"after\" script)\n"
     ]
    }
   ],
   "source": [
    "window.mainloop()"
   ]
  },
  {
   "cell_type": "code",
   "execution_count": null,
   "id": "d1149541-bce2-4b5f-8a2f-0b662de11bd1",
   "metadata": {},
   "outputs": [],
   "source": []
  },
  {
   "cell_type": "code",
   "execution_count": null,
   "id": "85e34770-423a-4fbe-b544-8f61d35d0a5f",
   "metadata": {},
   "outputs": [],
   "source": []
  }
 ],
 "metadata": {
  "kernelspec": {
   "display_name": "Python 3 (ipykernel)",
   "language": "python",
   "name": "python3"
  },
  "language_info": {
   "codemirror_mode": {
    "name": "ipython",
    "version": 3
   },
   "file_extension": ".py",
   "mimetype": "text/x-python",
   "name": "python",
   "nbconvert_exporter": "python",
   "pygments_lexer": "ipython3",
   "version": "3.11.7"
  }
 },
 "nbformat": 4,
 "nbformat_minor": 5
}
